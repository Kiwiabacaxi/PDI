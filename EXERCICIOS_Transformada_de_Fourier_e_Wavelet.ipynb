{
 "cells": [
  {
   "cell_type": "markdown",
   "id": "da477805",
   "metadata": {},
   "source": [
    "<a href=\"https://colab.research.google.com/github/Kiwiabacaxi/PDI/blob/main/EXERCICIOS_Transformada_de_Fourier_e_Wavelet.ipynb\" target=\"_parent\"><img src=\"https://colab.research.google.com/assets/colab-badge.svg\" alt=\"Open In Colab\"/></a>"
   ]
  }
 ],
 "metadata": {
  "language_info": {
   "name": "python"
  }
 },
 "nbformat": 4,
 "nbformat_minor": 5
}
