{
  "nbformat": 4,
  "nbformat_minor": 0,
  "metadata": {
    "colab": {
      "provenance": [],
      "include_colab_link": true
    },
    "kernelspec": {
      "name": "python3",
      "display_name": "Python 3"
    },
    "language_info": {
      "name": "python"
    }
  },
  "cells": [
    {
      "cell_type": "markdown",
      "metadata": {
        "id": "view-in-github",
        "colab_type": "text"
      },
      "source": [
        "<a href=\"https://colab.research.google.com/github/Kiwiabacaxi/PDI/blob/main/Exercicio_de_Pratica_de_Convolucao.ipynb\" target=\"_parent\"><img src=\"https://colab.research.google.com/assets/colab-badge.svg\" alt=\"Open In Colab\"/></a>"
      ]
    },
    {
      "cell_type": "markdown",
      "source": [
        "# Atividade Prática de Convolução de Imagem"
      ],
      "metadata": {
        "id": "dCbdWEGsYkO9"
      }
    },
    {
      "cell_type": "markdown",
      "source": [
        "Pegar a Imagem original e aplicar o que se pede:\n",
        "\n",
        "\n",
        "Material complementar:\n",
        "https://professor.luzerna.ifc.edu.br/ricardo-antonello/wp-content/uploads/sites/8/2017/02/Livro-Introdu%C3%A7%C3%A3o-a-Vis%C3%A3o-Computacional-com-Python-e-OpenCV.pdf"
      ],
      "metadata": {
        "id": "fztJo0suZK6S"
      }
    },
    {
      "cell_type": "markdown",
      "source": [
        "implementação do filtro Negativo em RGB: os valores das bandas R, G e B são invertidos conforme a operação aritmética: 255 menos o valor do pixel da matriz;"
      ],
      "metadata": {
        "id": "1_kmrxALtSjv"
      }
    },
    {
      "cell_type": "markdown",
      "source": [
        "implementação do controle de Brilho Aditivo: é somado uma medida definida pelo usuário a todos os pixels das bandas R, G e B;"
      ],
      "metadata": {
        "id": "SPCN6SFItbrk"
      }
    },
    {
      "cell_type": "markdown",
      "source": [
        "implementação do controle de Brilho Multiplicativo: é multiplicado uma medida definida pelo usuário a todos os pixels das bandas R, G e B;"
      ],
      "metadata": {
        "id": "ZHSiT70Btfba"
      }
    },
    {
      "cell_type": "markdown",
      "source": [
        "Filtro da média com máscara 3x3"
      ],
      "metadata": {
        "id": "FHOhDamfsFtZ"
      }
    },
    {
      "cell_type": "markdown",
      "source": [
        "Filtro da média com máscara 9x9"
      ],
      "metadata": {
        "id": "S_ZmpqeNe62p"
      }
    },
    {
      "cell_type": "markdown",
      "source": [
        "Outro Filtro Passa Baixa"
      ],
      "metadata": {
        "id": "DvN38BUkfXz4"
      }
    },
    {
      "cell_type": "markdown",
      "source": [
        "Fazer, usando convolução, o Filtro Passa-Alta (Prewitt)"
      ],
      "metadata": {
        "id": "1b0ftq3UsuSr"
      }
    },
    {
      "cell_type": "markdown",
      "source": [
        "Fazer, usando convolução, o Filtro Passa-Alta (Sobel)"
      ],
      "metadata": {
        "id": "GwVyh3G4s1B5"
      }
    },
    {
      "cell_type": "markdown",
      "source": [
        "Fazer, usando convolução, o Filtro Passa-Alta (Laplace)\n"
      ],
      "metadata": {
        "id": "esnNLWVts7pF"
      }
    },
    {
      "cell_type": "markdown",
      "source": [
        "Propor um outro filtro Passa-Alta"
      ],
      "metadata": {
        "id": "K3bLabwYtBCG"
      }
    }
  ]
}